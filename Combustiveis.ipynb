{
 "cells": [
  {
   "cell_type": "code",
   "execution_count": 8,
    "import seaborn as sns\n",
    "import pandas as pd\n",
    "import glob\n",
    "import os"
   ]
  },
  {
   "cell_type": "markdown",
   "id": "8d4f2d15",
   "metadata": {},
   "source": [
    "### EXTRACTING DATASETS"
   ]
  },
  {
   "cell_type": "code",
   "execution_count": 9,
   "id": "c01f661d",
   "metadata": {},
   "outputs": [],
   "source": [
    "#Lista vazia\n",
    "dados = []"
   ]
  },
  {
   "cell_type": "code",
   "execution_count": 10,
   "id": "6619f7a8",
   "metadata": {},
   "outputs": [],
   "source": [
    "# Diretório dos arquivos CSV\n",
    "diretorio = r'D:\\Portfolio\\GitHub\\Combustiveis_de_2013_a_2021\\Dados_Brutos'"
   ]
  },
  {
   "cell_type": "code",
   "execution_count": 11,
   "id": "20003bed",
   "metadata": {},
   "outputs": [],
   "source": [
    "# Obter a lista de arquivos CSV no diretório\n",
    "arquivos_csv = glob.glob(os.path.join(diretorio, '*.csv'))"
   ]
  },
  {
   "cell_type": "code",
   "execution_count": 12,
   "id": "aafd1ebf",
   "metadata": {},
   "outputs": [
    {
     "name": "stderr",
     "output_type": "stream",
     "text": [
      "C:\\Users\\jeffe\\AppData\\Local\\Temp\\ipykernel_11720\\3743506447.py:3: DtypeWarning: Columns (13) have mixed types. Specify dtype option on import or set low_memory=False.\n",
      "  dfs = pd.read_csv(arquivo, delimiter=';')\n"
     ]
    },
    {
     "ename": "UnicodeDecodeError",
     "evalue": "'utf-8' codec can't decode byte 0xd3 in position 242: invalid continuation byte",
     "output_type": "error",
     "traceback": [
      "\u001b[1;31m---------------------------------------------------------------------------\u001b[0m",
      "\u001b[1;31mUnicodeDecodeError\u001b[0m                        Traceback (most recent call last)",
      "Cell \u001b[1;32mIn[12], line 3\u001b[0m\n\u001b[0;32m      1\u001b[0m \u001b[38;5;66;03m# Loop para ler todos os arquivos CSV\u001b[39;00m\n\u001b[0;32m      2\u001b[0m \u001b[38;5;28;01mfor\u001b[39;00m arquivo \u001b[38;5;129;01min\u001b[39;00m arquivos_csv:\n\u001b[1;32m----> 3\u001b[0m     dfs \u001b[38;5;241m=\u001b[39m \u001b[43mpd\u001b[49m\u001b[38;5;241;43m.\u001b[39;49m\u001b[43mread_csv\u001b[49m\u001b[43m(\u001b[49m\u001b[43marquivo\u001b[49m\u001b[43m,\u001b[49m\u001b[43m \u001b[49m\u001b[43mdelimiter\u001b[49m\u001b[38;5;241;43m=\u001b[39;49m\u001b[38;5;124;43m'\u001b[39;49m\u001b[38;5;124;43m;\u001b[39;49m\u001b[38;5;124;43m'\u001b[39;49m\u001b[43m)\u001b[49m\n\u001b[0;32m      4\u001b[0m     dados\u001b[38;5;241m.\u001b[39mappend(dfs)\n",
      "File \u001b[1;32m~\\anaconda3\\lib\\site-packages\\pandas\\util\\_decorators.py:211\u001b[0m, in \u001b[0;36mdeprecate_kwarg.<locals>._deprecate_kwarg.<locals>.wrapper\u001b[1;34m(*args, **kwargs)\u001b[0m\n\u001b[0;32m    209\u001b[0m     \u001b[38;5;28;01melse\u001b[39;00m:\n\u001b[0;32m    210\u001b[0m         kwargs[new_arg_name] \u001b[38;5;241m=\u001b[39m new_arg_value\n\u001b[1;32m--> 211\u001b[0m \u001b[38;5;28;01mreturn\u001b[39;00m func(\u001b[38;5;241m*\u001b[39margs, \u001b[38;5;241m*\u001b[39m\u001b[38;5;241m*\u001b[39mkwargs)\n",
      "File \u001b[1;32m~\\anaconda3\\lib\\site-packages\\pandas\\util\\_decorators.py:331\u001b[0m, in \u001b[0;36mdeprecate_nonkeyword_arguments.<locals>.decorate.<locals>.wrapper\u001b[1;34m(*args, **kwargs)\u001b[0m\n\u001b[0;32m    325\u001b[0m \u001b[38;5;28;01mif\u001b[39;00m \u001b[38;5;28mlen\u001b[39m(args) \u001b[38;5;241m>\u001b[39m num_allow_args:\n\u001b[0;32m    326\u001b[0m     warnings\u001b[38;5;241m.\u001b[39mwarn(\n\u001b[0;32m    327\u001b[0m         msg\u001b[38;5;241m.\u001b[39mformat(arguments\u001b[38;5;241m=\u001b[39m_format_argument_list(allow_args)),\n\u001b[0;32m    328\u001b[0m         \u001b[38;5;167;01mFutureWarning\u001b[39;00m,\n\u001b[0;32m    329\u001b[0m         stacklevel\u001b[38;5;241m=\u001b[39mfind_stack_level(),\n\u001b[0;32m    330\u001b[0m     )\n\u001b[1;32m--> 331\u001b[0m \u001b[38;5;28;01mreturn\u001b[39;00m func(\u001b[38;5;241m*\u001b[39margs, \u001b[38;5;241m*\u001b[39m\u001b[38;5;241m*\u001b[39mkwargs)\n",
      "File \u001b[1;32m~\\anaconda3\\lib\\site-packages\\pandas\\io\\parsers\\readers.py:950\u001b[0m, in \u001b[0;36mread_csv\u001b[1;34m(filepath_or_buffer, sep, delimiter, header, names, index_col, usecols, squeeze, prefix, mangle_dupe_cols, dtype, engine, converters, true_values, false_values, skipinitialspace, skiprows, skipfooter, nrows, na_values, keep_default_na, na_filter, verbose, skip_blank_lines, parse_dates, infer_datetime_format, keep_date_col, date_parser, dayfirst, cache_dates, iterator, chunksize, compression, thousands, decimal, lineterminator, quotechar, quoting, doublequote, escapechar, comment, encoding, encoding_errors, dialect, error_bad_lines, warn_bad_lines, on_bad_lines, delim_whitespace, low_memory, memory_map, float_precision, storage_options)\u001b[0m\n\u001b[0;32m    935\u001b[0m kwds_defaults \u001b[38;5;241m=\u001b[39m _refine_defaults_read(\n\u001b[0;32m    936\u001b[0m     dialect,\n\u001b[0;32m    937\u001b[0m     delimiter,\n\u001b[1;32m   (...)\u001b[0m\n\u001b[0;32m    946\u001b[0m     defaults\u001b[38;5;241m=\u001b[39m{\u001b[38;5;124m\"\u001b[39m\u001b[38;5;124mdelimiter\u001b[39m\u001b[38;5;124m\"\u001b[39m: \u001b[38;5;124m\"\u001b[39m\u001b[38;5;124m,\u001b[39m\u001b[38;5;124m\"\u001b[39m},\n\u001b[0;32m    947\u001b[0m )\n\u001b[0;32m    948\u001b[0m kwds\u001b[38;5;241m.\u001b[39mupdate(kwds_defaults)\n\u001b[1;32m--> 950\u001b[0m \u001b[38;5;28;01mreturn\u001b[39;00m \u001b[43m_read\u001b[49m\u001b[43m(\u001b[49m\u001b[43mfilepath_or_buffer\u001b[49m\u001b[43m,\u001b[49m\u001b[43m \u001b[49m\u001b[43mkwds\u001b[49m\u001b[43m)\u001b[49m\n",
      "File \u001b[1;32m~\\anaconda3\\lib\\site-packages\\pandas\\io\\parsers\\readers.py:605\u001b[0m, in \u001b[0;36m_read\u001b[1;34m(filepath_or_buffer, kwds)\u001b[0m\n\u001b[0;32m    602\u001b[0m _validate_names(kwds\u001b[38;5;241m.\u001b[39mget(\u001b[38;5;124m\"\u001b[39m\u001b[38;5;124mnames\u001b[39m\u001b[38;5;124m\"\u001b[39m, \u001b[38;5;28;01mNone\u001b[39;00m))\n\u001b[0;32m    604\u001b[0m \u001b[38;5;66;03m# Create the parser.\u001b[39;00m\n\u001b[1;32m--> 605\u001b[0m parser \u001b[38;5;241m=\u001b[39m TextFileReader(filepath_or_buffer, \u001b[38;5;241m*\u001b[39m\u001b[38;5;241m*\u001b[39mkwds)\n\u001b[0;32m    607\u001b[0m \u001b[38;5;28;01mif\u001b[39;00m chunksize \u001b[38;5;129;01mor\u001b[39;00m iterator:\n\u001b[0;32m    608\u001b[0m     \u001b[38;5;28;01mreturn\u001b[39;00m parser\n",
      "File \u001b[1;32m~\\anaconda3\\lib\\site-packages\\pandas\\io\\parsers\\readers.py:1442\u001b[0m, in \u001b[0;36mTextFileReader.__init__\u001b[1;34m(self, f, engine, **kwds)\u001b[0m\n\u001b[0;32m   1439\u001b[0m     \u001b[38;5;28mself\u001b[39m\u001b[38;5;241m.\u001b[39moptions[\u001b[38;5;124m\"\u001b[39m\u001b[38;5;124mhas_index_names\u001b[39m\u001b[38;5;124m\"\u001b[39m] \u001b[38;5;241m=\u001b[39m kwds[\u001b[38;5;124m\"\u001b[39m\u001b[38;5;124mhas_index_names\u001b[39m\u001b[38;5;124m\"\u001b[39m]\n\u001b[0;32m   1441\u001b[0m \u001b[38;5;28mself\u001b[39m\u001b[38;5;241m.\u001b[39mhandles: IOHandles \u001b[38;5;241m|\u001b[39m \u001b[38;5;28;01mNone\u001b[39;00m \u001b[38;5;241m=\u001b[39m \u001b[38;5;28;01mNone\u001b[39;00m\n\u001b[1;32m-> 1442\u001b[0m \u001b[38;5;28mself\u001b[39m\u001b[38;5;241m.\u001b[39m_engine \u001b[38;5;241m=\u001b[39m \u001b[38;5;28;43mself\u001b[39;49m\u001b[38;5;241;43m.\u001b[39;49m\u001b[43m_make_engine\u001b[49m\u001b[43m(\u001b[49m\u001b[43mf\u001b[49m\u001b[43m,\u001b[49m\u001b[43m \u001b[49m\u001b[38;5;28;43mself\u001b[39;49m\u001b[38;5;241;43m.\u001b[39;49m\u001b[43mengine\u001b[49m\u001b[43m)\u001b[49m\n",
      "File \u001b[1;32m~\\anaconda3\\lib\\site-packages\\pandas\\io\\parsers\\readers.py:1753\u001b[0m, in \u001b[0;36mTextFileReader._make_engine\u001b[1;34m(self, f, engine)\u001b[0m\n\u001b[0;32m   1750\u001b[0m     \u001b[38;5;28;01mraise\u001b[39;00m \u001b[38;5;167;01mValueError\u001b[39;00m(msg)\n\u001b[0;32m   1752\u001b[0m \u001b[38;5;28;01mtry\u001b[39;00m:\n\u001b[1;32m-> 1753\u001b[0m     \u001b[38;5;28;01mreturn\u001b[39;00m mapping[engine](f, \u001b[38;5;241m*\u001b[39m\u001b[38;5;241m*\u001b[39m\u001b[38;5;28mself\u001b[39m\u001b[38;5;241m.\u001b[39moptions)\n\u001b[0;32m   1754\u001b[0m \u001b[38;5;28;01mexcept\u001b[39;00m \u001b[38;5;167;01mException\u001b[39;00m:\n\u001b[0;32m   1755\u001b[0m     \u001b[38;5;28;01mif\u001b[39;00m \u001b[38;5;28mself\u001b[39m\u001b[38;5;241m.\u001b[39mhandles \u001b[38;5;129;01mis\u001b[39;00m \u001b[38;5;129;01mnot\u001b[39;00m \u001b[38;5;28;01mNone\u001b[39;00m:\n",
      "File \u001b[1;32m~\\anaconda3\\lib\\site-packages\\pandas\\io\\parsers\\c_parser_wrapper.py:79\u001b[0m, in \u001b[0;36mCParserWrapper.__init__\u001b[1;34m(self, src, **kwds)\u001b[0m\n\u001b[0;32m     76\u001b[0m     kwds\u001b[38;5;241m.\u001b[39mpop(key, \u001b[38;5;28;01mNone\u001b[39;00m)\n\u001b[0;32m     78\u001b[0m kwds[\u001b[38;5;124m\"\u001b[39m\u001b[38;5;124mdtype\u001b[39m\u001b[38;5;124m\"\u001b[39m] \u001b[38;5;241m=\u001b[39m ensure_dtype_objs(kwds\u001b[38;5;241m.\u001b[39mget(\u001b[38;5;124m\"\u001b[39m\u001b[38;5;124mdtype\u001b[39m\u001b[38;5;124m\"\u001b[39m, \u001b[38;5;28;01mNone\u001b[39;00m))\n\u001b[1;32m---> 79\u001b[0m \u001b[38;5;28mself\u001b[39m\u001b[38;5;241m.\u001b[39m_reader \u001b[38;5;241m=\u001b[39m parsers\u001b[38;5;241m.\u001b[39mTextReader(src, \u001b[38;5;241m*\u001b[39m\u001b[38;5;241m*\u001b[39mkwds)\n\u001b[0;32m     81\u001b[0m \u001b[38;5;28mself\u001b[39m\u001b[38;5;241m.\u001b[39munnamed_cols \u001b[38;5;241m=\u001b[39m \u001b[38;5;28mself\u001b[39m\u001b[38;5;241m.\u001b[39m_reader\u001b[38;5;241m.\u001b[39munnamed_cols\n\u001b[0;32m     83\u001b[0m \u001b[38;5;66;03m# error: Cannot determine type of 'names'\u001b[39;00m\n",
      "File \u001b[1;32m~\\anaconda3\\lib\\site-packages\\pandas\\_libs\\parsers.pyx:547\u001b[0m, in \u001b[0;36mpandas._libs.parsers.TextReader.__cinit__\u001b[1;34m()\u001b[0m\n",
      "File \u001b[1;32m~\\anaconda3\\lib\\site-packages\\pandas\\_libs\\parsers.pyx:636\u001b[0m, in \u001b[0;36mpandas._libs.parsers.TextReader._get_header\u001b[1;34m()\u001b[0m\n",
      "File \u001b[1;32m~\\anaconda3\\lib\\site-packages\\pandas\\_libs\\parsers.pyx:852\u001b[0m, in \u001b[0;36mpandas._libs.parsers.TextReader._tokenize_rows\u001b[1;34m()\u001b[0m\n",
      "File \u001b[1;32m~\\anaconda3\\lib\\site-packages\\pandas\\_libs\\parsers.pyx:1965\u001b[0m, in \u001b[0;36mpandas._libs.parsers.raise_parser_error\u001b[1;34m()\u001b[0m\n",
      "\u001b[1;31mUnicodeDecodeError\u001b[0m: 'utf-8' codec can't decode byte 0xd3 in position 242: invalid continuation byte"
     ]
    }
   ],
   "source": [
    "# Loop para ler todos os arquivos CSV\n",
    "for arquivo in arquivos_csv:\n",
    "    dfs = pd.read_csv(arquivo, delimiter=';')\n",
    "    dados.append(dfs)"
   ]
  },
  {
   "cell_type": "code",
   "execution_count": null,
   "id": "2b966601",
   "metadata": {},
   "outputs": [],
   "source": [
    "#Concatena todos os arquivos CSV em um arquivo só: \"df\"\n",
    "df = pd.concat(dados, ignore_index=True)"
   ]
  },
  {
   "cell_type": "markdown",
   "id": "31a4e675",
   "metadata": {},
   "source": [
    "### TRANSFORMING DATASETS"
   ]
  },
  {
   "cell_type": "code",
   "execution_count": null,
   "id": "57a55f56",
   "metadata": {},
   "outputs": [],
   "source": [
    "#Renomeia colunas\n",
    "df.rename(columns={'Regiao - Sigla':'Regiao', 'Estado - Sigla':'Estado'}, inplace = True)"
   ]
  },
  {
   "cell_type": "code",
   "execution_count": null,
   "id": "c91ee7bc",
   "metadata": {},
   "outputs": [],
   "source": [
    "#Substitui siglas pelo nome da região\n",
    "regioes = {'N':'Norte', 'NE':'Nordeste', 'CO':'Centro-Oeste', 'S':'Sudeste', 'SE':'Suldeste'}\n",
    "df['Regiao'] = df['Regiao'].replace(regioes)"
   ]
  },
  {
   "cell_type": "code",
   "execution_count": null,
   "id": "69ed5af4",
   "metadata": {},
   "outputs": [],
   "source": [
    "#Substitui o separador decimal de \",\" para \".\"\n",
    "df['Valor de Compra'] = df['Valor de Compra'].str.replace(',', '.').astype(float)\n",
    "df['Valor de Venda'] = df['Valor de Venda'].str.replace(',', '.').astype(float)"
   ]
  },
  {
   "cell_type": "code",
   "execution_count": null,
   "id": "fbca4151",
   "metadata": {},
   "outputs": [],
   "source": [
    "#Converte o tipo da coluna de str para float\n",
    "df['Valor de Venda'] = (df['Valor de Venda'].astype(float))\n",
    "df['Valor de Compra'] = (df['Valor de Compra'].astype(float))"
   ]
  },
  {
   "cell_type": "code",
   "execution_count": null,
   "id": "5f0c7c8d",
   "metadata": {},
   "outputs": [],
   "source": [
    "#Cria a coluna Margem de Lucro com 2 casas decimais\n",
    "df['Margem de Lucro'] = (((df['Valor de Venda'] - df['Valor de Compra']) / df['Valor de Venda']) * 100).round(2)"
   ]
  },
  {
   "cell_type": "code",
   "execution_count": null,
   "id": "4577c701",
   "metadata": {},
   "outputs": [],
   "source": [
    "#Arredonda as casas decimais das colunas especificadas\n",
    "df[['Valor de Compra', 'Valor de Venda']] = df[['Valor de Compra', 'Valor de Venda']].round(2)"
   ]
  },
  {
   "cell_type": "code",
   "execution_count": null,
   "id": "ec78da08",
   "metadata": {},
   "outputs": [],
   "source": [
    "#Substitui as celulas vazias da coluna\n",
    "df['Complemento'].fillna('Não informado', inplace=True)"
   ]
  },
  {
   "cell_type": "code",
   "execution_count": null,
   "id": "c34a92ac",
   "metadata": {},
   "outputs": [],
   "source": [
    "#Subistitui as celulas vazias e altera o tipo\n",
    "df[['Valor de Compra', 'Numero Rua', 'Margem de Lucro', 'Valor de Venda']] = df[['Valor de Compra', 'Numero Rua', 'Margem de Lucro', 'Valor de Venda']].fillna(float(0))"
   ]
  },
  {
   "cell_type": "code",
   "execution_count": null,
   "id": "b380be1a",
   "metadata": {},
   "outputs": [],
   "source": [
    "#Converte os valores da coluna para strings\n",
    "df['Bairro'] = df['Bairro'].astype(str)"
   ]
  },
  {
   "cell_type": "code",
   "execution_count": null,
   "id": "c07b9c88",
   "metadata": {},
   "outputs": [],
   "source": [
    "#Coloca 'Não informado' nas celulas que possuem apenas caracteres não alfanumericos ou vazio\n",
    "df['Bairro'] = df['Bairro'].apply(lambda x: 'Não informado' if (not x.strip()) or not x.isalnum() else x)"
   ]
  },
  {
   "cell_type": "code",
   "execution_count": null,
   "id": "fc9bdeaf",
   "metadata": {},
   "outputs": [],
   "source": [
    "#Subistitui as celulas vazias\n",
    "df['Unidade de Medida'].fillna('R$ / litro', inplace=True)\n",
    "df.drop(df[df['Bandeira'].isnull()].index, inplace=True)"
   ]
  },
  {
   "cell_type": "markdown",
   "id": "b8e7b289",
   "metadata": {},
   "source": [
    "### LOAD DATASETS AND SLICING"
   ]
  },
  {
   "cell_type": "code",
   "execution_count": null,
   "id": "3d54f6b0",
   "metadata": {},
   "outputs": [],
   "source": [
    "# Número de linhas para processar em cada parte\n",
    "tamanho = 1000000"
   ]
  },
  {
   "cell_type": "code",
   "execution_count": null,
   "id": "0683c043",
   "metadata": {},
   "outputs": [],
   "source": [
    "# Dividir o DataFrame em partes menores\n",
    "partes = [df[i:i + tamanho] for i in range(0, len(df), tamanho)]"
   ]
  },
  {
   "cell_type": "code",
   "execution_count": null,
   "id": "7686ca69",
   "metadata": {},
   "outputs": [],
   "source": [
    "# Diretório de saída para os arquivos CSV\n",
    "destino = 'D:\\Portfolio\\GitHub\\Combustiveis_de_2013_a_2021\\Dados_Tratados'"
   ]
  },
  {
   "cell_type": "code",
   "execution_count": null,
   "id": "8bca278a",
   "metadata": {},
   "outputs": [],
   "source": [
    "# Loop para processar e salvar as partes em arquivos CSV separados\n",
    "for i, df_parte in enumerate(partes, 1):\n",
    "    caminho_saida = os.path.join(destino, f'Combustiveis_{i}.csv')\n",
    "    df_parte.to_csv(caminho_saida, index=False)"
   ]
  },
  {
   "cell_type": "code",
   "execution_count": 7,
   "id": "0c58aac8",
   "metadata": {},
   "outputs": [
    {
     "ename": "NameError",
     "evalue": "name 'destino' is not defined",
     "output_type": "error",
     "traceback": [
      "\u001b[1;31m---------------------------------------------------------------------------\u001b[0m",
      "\u001b[1;31mNameError\u001b[0m                                 Traceback (most recent call last)",
      "Cell \u001b[1;32mIn[7], line 2\u001b[0m\n\u001b[0;32m      1\u001b[0m \u001b[38;5;66;03m#Informa a conclusão da criação dos arquivos\u001b[39;00m\n\u001b[1;32m----> 2\u001b[0m \u001b[38;5;28mprint\u001b[39m(\u001b[38;5;124mf\u001b[39m\u001b[38;5;124m'\u001b[39m\u001b[38;5;124mArquivo exportado para \u001b[39m\u001b[38;5;132;01m{\u001b[39;00mdestino\u001b[38;5;132;01m}\u001b[39;00m\u001b[38;5;124m'\u001b[39m)\n",
      "\u001b[1;31mNameError\u001b[0m: name 'destino' is not defined"
     ]
    }
   ],
   "source": [
    "#Informa a conclusão da criação dos arquivos\n",
    "print(f'Arquivo exportado para {destino}')"
   ]
  },
  {
   "cell_type": "markdown",
   "id": "bcfe772e",
   "metadata": {},
   "source": [
    "### BUSINESS QUESTIONS"
   ]
  },
  {
   "cell_type": "markdown",
   "id": "84013f46",
   "metadata": {},
   "source": [
    "#### 1 - Qual a maior, a média e a menor Margem de Lucro de todo o período por produto?"
   ]
  },
  {
   "cell_type": "markdown",
   "id": "9c7f17cf",
   "metadata": {},
   "source": [
    "#### No País"
   ]
  },
  {
   "cell_type": "code",
   "execution_count": 184,
   "id": "0a1a0ecf",
   "metadata": {},
   "outputs": [
    {
     "name": "stdout",
     "output_type": "stream",
     "text": [
      "A maior margem de lucro do período por produto:\n",
      "\n",
      "              Produto  Margem de Lucro\n",
      "0              DIESEL            44.65\n",
      "1          DIESEL S10            44.90\n",
      "2              ETANOL            52.97\n",
      "3            GASOLINA            41.35\n",
      "4  GASOLINA ADITIVADA             0.00\n",
      "5                 GNV            55.71\n"
     ]
    }
   ],
   "source": [
    "print('A maior margem de lucro do período por produto:\\n\\n{}'.format(df.groupby(['Produto'])['Margem de Lucro'].max().reset_index()))"
   ]
  },
  {
   "cell_type": "code",
   "execution_count": 123,
   "id": "5ecaa0a7",
   "metadata": {},
   "outputs": [
    {
     "name": "stdout",
     "output_type": "stream",
     "text": [
      "A média de margem de lucro do periodo por produto:\n",
      "\n",
      "              Produto  Margem de Lucro\n",
      "0              DIESEL             4.55\n",
      "1          DIESEL S10             4.36\n",
      "2              ETANOL             5.45\n",
      "3            GASOLINA             5.46\n",
      "4  GASOLINA ADITIVADA             0.00\n",
      "5                 GNV             5.14\n"
     ]
    }
   ],
   "source": [
    "print('A média de margem de lucro do periodo por produto:\\n\\n{}'.format(df['Margem de Lucro'].groupby(df['Produto']).mean().round(2).reset_index()))"
   ]
  },
  {
   "cell_type": "code",
   "execution_count": 99,
   "id": "7ea9089d",
   "metadata": {
    "scrolled": true
   },
   "outputs": [
    {
     "name": "stdout",
     "output_type": "stream",
     "text": [
      "A menor margem de lucro do periodo por produto:\n",
      "\n",
      "              Produto  Margem de Lucro\n",
      "0              DIESEL           -16.57\n",
      "1          DIESEL S10           -19.41\n",
      "2              ETANOL           -30.15\n",
      "3            GASOLINA           -16.35\n",
      "4  GASOLINA ADITIVADA             0.00\n",
      "5                 GNV           -47.02\n"
     ]
    }
   ],
   "source": [
    "print('A menor margem de lucro do periodo por produto:\\n\\n{}'.format(df['Margem de Lucro'].groupby(df['Produto']).min().reset_index()))"
   ]
  },
  {
   "cell_type": "markdown",
   "id": "aab2bc57",
   "metadata": {},
   "source": [
    "#### 1.1 - Por Região"
   ]
  },
  {
   "cell_type": "code",
   "execution_count": 185,
   "id": "06dabf1a",
   "metadata": {},
   "outputs": [
    {
     "name": "stdout",
     "output_type": "stream",
     "text": [
      "A maior margem de lucro do periodo por produto e região:\n",
      "\n",
      "          Regiao             Produto  Margem de Lucro\n",
      "0   Centro-Oeste              DIESEL            34.50\n",
      "1   Centro-Oeste          DIESEL S10            36.69\n",
      "2   Centro-Oeste              ETANOL            39.19\n",
      "3   Centro-Oeste            GASOLINA            29.66\n",
      "4   Centro-Oeste  GASOLINA ADITIVADA             0.00\n",
      "5   Centro-Oeste                 GNV            43.30\n",
      "6       Nordeste              DIESEL            34.98\n",
      "7       Nordeste          DIESEL S10            36.09\n",
      "8       Nordeste              ETANOL            51.07\n",
      "9       Nordeste            GASOLINA            38.40\n",
      "10      Nordeste  GASOLINA ADITIVADA             0.00\n",
      "11      Nordeste                 GNV            54.40\n",
      "12         Norte              DIESEL            44.65\n",
      "13         Norte          DIESEL S10            44.90\n",
      "14         Norte              ETANOL            47.34\n",
      "15         Norte            GASOLINA            39.15\n",
      "16         Norte  GASOLINA ADITIVADA             0.00\n",
      "17         Norte                 GNV            36.34\n",
      "18       Sudeste              DIESEL            39.61\n",
      "19       Sudeste          DIESEL S10            39.84\n",
      "20       Sudeste              ETANOL            44.19\n",
      "21       Sudeste            GASOLINA            41.35\n",
      "22       Sudeste  GASOLINA ADITIVADA             0.00\n",
      "23       Sudeste                 GNV            55.71\n",
      "24      Suldeste              DIESEL            39.88\n",
      "25      Suldeste          DIESEL S10            44.59\n",
      "26      Suldeste              ETANOL            52.97\n",
      "27      Suldeste            GASOLINA            36.68\n",
      "28      Suldeste  GASOLINA ADITIVADA             0.00\n",
      "29      Suldeste                 GNV            53.09\n"
     ]
    }
   ],
   "source": [
    "print('A maior margem de lucro do periodo por produto e região:\\n\\n{}'.format(df.groupby(['Regiao', 'Produto'])['Margem de Lucro'].max().reset_index()))"
   ]
  },
  {
   "cell_type": "code",
   "execution_count": 186,
   "id": "4484f390",
   "metadata": {},
   "outputs": [
    {
     "name": "stdout",
     "output_type": "stream",
     "text": [
      "A média de margem de lucro do periodo por produto e região:\n",
      "\n",
      "          Regiao             Produto  Margem de Lucro\n",
      "0   Centro-Oeste              DIESEL             2.79\n",
      "1   Centro-Oeste          DIESEL S10             2.63\n",
      "2   Centro-Oeste              ETANOL             3.39\n",
      "3   Centro-Oeste            GASOLINA             3.37\n",
      "4   Centro-Oeste  GASOLINA ADITIVADA             0.00\n",
      "5   Centro-Oeste                 GNV             8.95\n",
      "6       Nordeste              DIESEL             4.47\n",
      "7       Nordeste          DIESEL S10             4.17\n",
      "8       Nordeste              ETANOL             5.05\n",
      "9       Nordeste            GASOLINA             5.78\n",
      "10      Nordeste  GASOLINA ADITIVADA             0.00\n",
      "11      Nordeste                 GNV             7.82\n",
      "12         Norte              DIESEL             4.64\n",
      "13         Norte          DIESEL S10             4.54\n",
      "14         Norte              ETANOL             4.00\n",
      "15         Norte            GASOLINA             5.60\n",
      "16         Norte  GASOLINA ADITIVADA             0.00\n",
      "17         Norte                 GNV             9.62\n",
      "18       Sudeste              DIESEL             3.67\n",
      "19       Sudeste          DIESEL S10             3.28\n",
      "20       Sudeste              ETANOL             3.38\n",
      "21       Sudeste            GASOLINA             4.14\n",
      "22       Sudeste  GASOLINA ADITIVADA             0.00\n",
      "23       Sudeste                 GNV             2.82\n",
      "24      Suldeste              DIESEL             5.22\n",
      "25      Suldeste          DIESEL S10             5.16\n",
      "26      Suldeste              ETANOL             6.65\n",
      "27      Suldeste            GASOLINA             6.13\n",
      "28      Suldeste  GASOLINA ADITIVADA             0.00\n",
      "29      Suldeste                 GNV             4.53\n"
     ]
    }
   ],
   "source": [
    "print('A média de margem de lucro do periodo por produto e região:\\n\\n{}'.format(df.groupby(['Regiao', 'Produto'])['Margem de Lucro'].mean().round(2).reset_index()))"
   ]
  },
  {
   "cell_type": "code",
   "execution_count": 187,
   "id": "0ffeba39",
   "metadata": {},
   "outputs": [
    {
     "name": "stdout",
     "output_type": "stream",
     "text": [
      "A menor margem de lucro do periodo por produto e região:\n",
      "\n",
      "          Regiao             Produto  Margem de Lucro\n",
      "0   Centro-Oeste              DIESEL           -11.44\n",
      "1   Centro-Oeste          DIESEL S10            -3.44\n",
      "2   Centro-Oeste              ETANOL           -10.15\n",
      "3   Centro-Oeste            GASOLINA            -2.84\n",
      "4   Centro-Oeste  GASOLINA ADITIVADA             0.00\n",
      "5   Centro-Oeste                 GNV             0.00\n",
      "6       Nordeste              DIESEL            -8.89\n",
      "7       Nordeste          DIESEL S10           -13.64\n",
      "8       Nordeste              ETANOL           -24.35\n",
      "9       Nordeste            GASOLINA           -16.35\n",
      "10      Nordeste  GASOLINA ADITIVADA             0.00\n",
      "11      Nordeste                 GNV             0.00\n",
      "12         Norte              DIESEL            -5.84\n",
      "13         Norte          DIESEL S10            -4.98\n",
      "14         Norte              ETANOL            -6.20\n",
      "15         Norte            GASOLINA           -11.36\n",
      "16         Norte  GASOLINA ADITIVADA             0.00\n",
      "17         Norte                 GNV             0.00\n",
      "18       Sudeste              DIESEL           -16.57\n",
      "19       Sudeste          DIESEL S10           -14.11\n",
      "20       Sudeste              ETANOL           -16.73\n",
      "21       Sudeste            GASOLINA            -2.42\n",
      "22       Sudeste  GASOLINA ADITIVADA             0.00\n",
      "23       Sudeste                 GNV           -47.02\n",
      "24      Suldeste              DIESEL           -15.24\n",
      "25      Suldeste          DIESEL S10           -19.41\n",
      "26      Suldeste              ETANOL           -30.15\n",
      "27      Suldeste            GASOLINA           -11.83\n",
      "28      Suldeste  GASOLINA ADITIVADA             0.00\n",
      "29      Suldeste                 GNV            -0.04\n"
     ]
    }
   ],
   "source": [
    "print('A menor margem de lucro do periodo por produto e região:\\n\\n{}'.format(df.groupby(['Regiao', 'Produto'])['Margem de Lucro'].min().reset_index()))"
   ]
  },
  {
   "cell_type": "markdown",
   "id": "5ddea857",
   "metadata": {},
   "source": [
    "#### 1.2 - Por Estado"
   ]
  },
  {
   "cell_type": "code",
   "execution_count": 188,
   "id": "ce89177e",
   "metadata": {},
   "outputs": [
    {
     "name": "stdout",
     "output_type": "stream",
     "text": [
      "A maior margem de lucro do periodo por estado e produto:\n",
      "\n",
      "    Estado             Produto  Margem de Lucro\n",
      "0       AC              DIESEL            31.09\n",
      "1       AC          DIESEL S10            31.22\n",
      "2       AC              ETANOL            40.95\n",
      "3       AC            GASOLINA            29.32\n",
      "4       AC  GASOLINA ADITIVADA             0.00\n",
      "..     ...                 ...              ...\n",
      "155     TO          DIESEL S10            44.90\n",
      "156     TO              ETANOL            37.13\n",
      "157     TO            GASOLINA            39.15\n",
      "158     TO  GASOLINA ADITIVADA             0.00\n",
      "159     TO                 GNV             0.00\n",
      "\n",
      "[160 rows x 3 columns]\n"
     ]
    }
   ],
   "source": [
    "print('A maior margem de lucro do periodo por estado e produto:\\n\\n{}'.format(df.groupby(['Estado', 'Produto'])['Margem de Lucro'].max().reset_index()))"
   ]
  },
  {
   "cell_type": "code",
   "execution_count": 189,
   "id": "4953df22",
   "metadata": {},
   "outputs": [
    {
     "name": "stdout",
     "output_type": "stream",
     "text": [
      "A média de margem de lucro do periodo por estado e produto:\n",
      "\n",
      "    Estado             Produto  Margem de Lucro\n",
      "0       AC              DIESEL             5.93\n",
      "1       AC          DIESEL S10             5.68\n",
      "2       AC              ETANOL             5.24\n",
      "3       AC            GASOLINA             6.33\n",
      "4       AC  GASOLINA ADITIVADA             0.00\n",
      "..     ...                 ...              ...\n",
      "155     TO          DIESEL S10             2.88\n",
      "156     TO              ETANOL             2.95\n",
      "157     TO            GASOLINA             3.70\n",
      "158     TO  GASOLINA ADITIVADA             0.00\n",
      "159     TO                 GNV             0.00\n",
      "\n",
      "[160 rows x 3 columns]\n"
     ]
    }
   ],
   "source": [
    "print('A média de margem de lucro do periodo por estado e produto:\\n\\n{}'.format(df.groupby(['Estado', 'Produto'])['Margem de Lucro'].mean().round(2).reset_index()))"
   ]
  },
  {
   "cell_type": "code",
   "execution_count": 190,
   "id": "fb6ad1b3",
   "metadata": {},
   "outputs": [
    {
     "name": "stdout",
     "output_type": "stream",
     "text": [
      "A menor margem de lucro do periodo por estado e produto:\n",
      "\n",
      "    Estado             Produto  Margem de Lucro\n",
      "0       AC              DIESEL             0.00\n",
      "1       AC          DIESEL S10             0.00\n",
      "2       AC              ETANOL            -0.19\n",
      "3       AC            GASOLINA             0.00\n",
      "4       AC  GASOLINA ADITIVADA             0.00\n",
      "..     ...                 ...              ...\n",
      "155     TO          DIESEL S10             0.00\n",
      "156     TO              ETANOL            -0.69\n",
      "157     TO            GASOLINA             0.00\n",
      "158     TO  GASOLINA ADITIVADA             0.00\n",
      "159     TO                 GNV             0.00\n",
      "\n",
      "[160 rows x 3 columns]\n"
     ]
    }
   ],
   "source": [
    "print('A menor margem de lucro do periodo por estado e produto:\\n\\n{}'.format(df.groupby(['Estado', 'Produto'])['Margem de Lucro'].min().reset_index()))"
   ]
  },
  {
   "cell_type": "markdown",
   "id": "8c5b4a56",
   "metadata": {},
   "source": [
    "#### 1.3 - Por Municipio"
   ]
  },
  {
   "cell_type": "code",
   "execution_count": 212,
   "id": "fc069bb3",
   "metadata": {
    "scrolled": true
   },
   "outputs": [
    {
     "name": "stdout",
     "output_type": "stream",
     "text": [
      "O município com a maior margem de lucro do periodo:\n",
      "\n",
      "             index      7069365\n",
      "0        Municipio  SANTA MARIA\n",
      "1           Estado           RS\n",
      "2  Margem de Lucro        55.71\n"
     ]
    }
   ],
   "source": [
    "print('O município com a maior margem de lucro do periodo:\\n\\n{}'.format(df.loc[df['Margem de Lucro'].idxmax(), ['Municipio', 'Estado', 'Margem de Lucro']].reset_index()))"
   ]
  },
  {
   "cell_type": "code",
   "execution_count": 210,
   "id": "ca68b84d",
   "metadata": {},
   "outputs": [
    {
     "name": "stdout",
     "output_type": "stream",
     "text": [
      "A média de margem de lucro do periodo por município:\n",
      "\n",
      "        Municipio  Margem de Lucro\n",
      "0      ABAETETUBA             5.14\n",
      "1    ABREU E LIMA             3.86\n",
      "2      ACAILANDIA             3.40\n",
      "3      ACRELANDIA             4.02\n",
      "4      ADAMANTINA             4.72\n",
      "..            ...              ...\n",
      "606   VOTUPORANGA             2.69\n",
      "607       XAMBIOA             0.00\n",
      "608       XANXERE             2.75\n",
      "609        XAPURI             1.23\n",
      "610      XINGUARA             1.98\n",
      "\n",
      "[611 rows x 2 columns]\n"
     ]
    }
   ],
   "source": [
    "print('A média de margem de lucro do periodo por município:\\n\\n{}'.format(df['Margem de Lucro'].groupby(df['Municipio']).mean().round(2).reset_index()))"
   ]
  },
  {
   "cell_type": "code",
   "execution_count": 213,
   "id": "1de4f91d",
   "metadata": {},
   "outputs": [
    {
     "name": "stdout",
     "output_type": "stream",
     "text": [
      "A município com a menor margem de lucro do periodo:\n",
      "\n",
      "             index   5200313\n",
      "0        Municipio  SAO JOSE\n",
      "1           Estado        SC\n",
      "2  Margem de Lucro    -47.02\n"
     ]
    }
   ],
   "source": [
    "print('A município com a menor margem de lucro do periodo:\\n\\n{}'.format(df.loc[df['Margem de Lucro'].idxmin(), ['Municipio', 'Estado', 'Margem de Lucro']].reset_index()))"
   ]
  },
  {
   "cell_type": "markdown",
   "id": "9c23a232",
   "metadata": {},
   "source": [
    "#### 1.4 - Por CNPJ"
   ]
  },
  {
   "cell_type": "code",
   "execution_count": 215,
   "id": "17acca59",
   "metadata": {},
   "outputs": [
    {
     "name": "stdout",
     "output_type": "stream",
     "text": [
      "A empresa com maior margem de lucro do periodo:\n",
      "\n",
      "             index              7069365\n",
      "0  CNPJ da Revenda   05.549.818/0001-81\n",
      "1  Margem de Lucro                55.71\n"
     ]
    }
   ],
   "source": [
    "print('A empresa com maior margem de lucro do periodo:\\n\\n{}'.format(df.loc[df['Margem de Lucro'].idxmax(), ['CNPJ da Revenda', 'Margem de Lucro']].reset_index()))"
   ]
  },
  {
   "cell_type": "code",
   "execution_count": 216,
   "id": "3e432043",
   "metadata": {},
   "outputs": [
    {
     "name": "stdout",
     "output_type": "stream",
     "text": [
      "A média de margem de lucro do periodo por empresa:\n",
      "\n",
      "           CNPJ da Revenda  Margem de Lucro\n",
      "0       00.000.042/0001-22             9.06\n",
      "1       00.000.042/0002-03             6.00\n",
      "2       00.000.042/0005-56             9.38\n",
      "3       00.000.042/0006-37             0.17\n",
      "4       00.000.042/0007-18             0.00\n",
      "...                    ...              ...\n",
      "25652   98.418.023/0006-20             9.62\n",
      "25653   98.512.411/0001-60             0.00\n",
      "25654   98.512.460/0004-46             2.74\n",
      "25655   98.512.460/0005-27             2.09\n",
      "25656   98.749.864/0001-05             2.61\n",
      "\n",
      "[25657 rows x 2 columns]\n"
     ]
    }
   ],
   "source": [
    "print('A média de margem de lucro do periodo por empresa:\\n\\n{}'.format(df['Margem de Lucro'].groupby(df['CNPJ da Revenda']).mean().round(2).reset_index()))"
   ]
  },
  {
   "cell_type": "code",
   "execution_count": 217,
   "id": "16e4c351",
   "metadata": {},
   "outputs": [
    {
     "name": "stdout",
     "output_type": "stream",
     "text": [
      "A empresa com menor margem de lucro do periodo:\n",
      "\n",
      "             index              5200313\n",
      "0  CNPJ da Revenda   08.546.346/0001-00\n",
      "1  Margem de Lucro               -47.02\n"
     ]
    }
   ],
   "source": [
    "print('A empresa com menor margem de lucro do periodo:\\n\\n{}'.format(df.loc[df['Margem de Lucro'].idxmin(), ['CNPJ da Revenda', 'Margem de Lucro']].reset_index()))"
   ]
  },
  {
   "cell_type": "markdown",
   "id": "46fa5065",
   "metadata": {},
   "source": [
    "#### 1.5 - Por Bandeira"
   ]
  },
  {
   "cell_type": "code",
   "execution_count": 226,
   "id": "d390ca56",
   "metadata": {},
   "outputs": [
    {
     "name": "stdout",
     "output_type": "stream",
     "text": [
      "A bandeira com maior margem de lucro do periodo:\n",
      "\n",
      "             index 7069365\n",
      "0         Bandeira  BRANCA\n",
      "1  Margem de Lucro   55.71\n"
     ]
    }
   ],
   "source": [
    "print('A bandeira com maior margem de lucro do periodo:\\n\\n{}'.format(df.loc[df['Margem de Lucro'].idxmax(), ['Bandeira', 'Margem de Lucro']].reset_index()))"
   ]
  },
  {
   "cell_type": "code",
   "execution_count": 227,
   "id": "b57358c5",
   "metadata": {},
   "outputs": [
    {
     "name": "stdout",
     "output_type": "stream",
     "text": [
      "A média de margem de lucro do periodo por bandeira:\n",
      "\n",
      "               Bandeira  Margem de Lucro\n",
      "0                76 OIL            14.83\n",
      "1                  ACOL             5.22\n",
      "2    AGIP DISTRIBUIDORA             6.20\n",
      "3                AIR BP             2.92\n",
      "4      ALE COMBUSTÍVEIS             5.87\n",
      "..                  ...              ...\n",
      "110                 UNI             6.71\n",
      "111       VIBRA ENERGIA             0.00\n",
      "112         WALENDOWSKY             0.60\n",
      "113                WATT             4.36\n",
      "114                ZEMA             4.86\n",
      "\n",
      "[115 rows x 2 columns]\n"
     ]
    }
   ],
   "source": [
    "print('A média de margem de lucro do periodo por bandeira:\\n\\n{}'.format(df['Margem de Lucro'].groupby(df['Bandeira']).mean().round(2).reset_index()))"
   ]
  },
  {
   "cell_type": "code",
   "execution_count": 228,
   "id": "d0af0546",
   "metadata": {
    "scrolled": true
   },
   "outputs": [
    {
     "name": "stdout",
     "output_type": "stream",
     "text": [
      "A bandeira com menor margem de lucro do periodo:\n",
      "\n",
      "             index 5200313\n",
      "0         Bandeira  BRANCA\n",
      "1  Margem de Lucro  -47.02\n"
     ]
    }
   ],
   "source": [
    "print('A bandeira com menor margem de lucro do periodo:\\n\\n{}'.format(df.loc[df['Margem de Lucro'].idxmin(), ['Bandeira', 'Margem de Lucro']].reset_index()))"
   ]
  },
  {
   "cell_type": "markdown",
   "id": "270c0deb",
   "metadata": {},
   "source": [
    "#### 2 - Qual o maior, a média e o menor Valor de Compra e Valor de Venda de todo o período por produto?"
   ]
  },
  {
   "cell_type": "markdown",
   "id": "63ce50e2",
   "metadata": {},
   "source": [
    "#### 2.1 - No País"
   ]
  },
  {
   "cell_type": "code",
   "execution_count": 229,
   "id": "e3fc6797",
   "metadata": {},
   "outputs": [
    {
     "name": "stdout",
     "output_type": "stream",
     "text": [
      "O maior valor de compra e venda do periodo por produto:\n",
      "\n",
      "              Produto  Valor de Compra  Valor de Venda\n",
      "0              DIESEL             4.27            6.13\n",
      "1          DIESEL S10             4.48            6.35\n",
      "2              ETANOL             4.69            7.00\n",
      "3            GASOLINA             5.09            7.00\n",
      "4  GASOLINA ADITIVADA             0.00            7.30\n",
      "5                 GNV             4.22            5.49\n"
     ]
    }
   ],
   "source": [
    "print('O maior valor de compra e venda do periodo por produto:\\n\\n{}'.format(df.groupby('Produto')[['Valor de Compra', 'Valor de Venda']].max().reset_index()))"
   ]
  },
  {
   "cell_type": "code",
   "execution_count": 232,
   "id": "6ca2d025",
   "metadata": {},
   "outputs": [
    {
     "name": "stdout",
     "output_type": "stream",
     "text": [
      "A média do valor de compra e venda do periodo por produto:\n",
      "\n",
      "              Produto  Valor de Compra  Valor de Venda\n",
      "0              DIESEL             0.96            2.93\n",
      "1          DIESEL S10             1.02            3.26\n",
      "2              ETANOL             0.84            2.71\n",
      "3            GASOLINA             1.29            3.69\n",
      "4  GASOLINA ADITIVADA             0.00            5.32\n",
      "5                 GNV             0.31            2.37\n"
     ]
    }
   ],
   "source": [
    "print('A média do valor de compra e venda do periodo por produto:\\n\\n{}'.format(df.groupby(df['Produto'])[['Valor de Compra', 'Valor de Venda']].mean().round(2).reset_index()))"
   ]
  },
  {
   "cell_type": "code",
   "execution_count": 233,
   "id": "60480243",
   "metadata": {},
   "outputs": [
    {
     "name": "stdout",
     "output_type": "stream",
     "text": [
      "O menor valor de compra e venda do periodo por produto:\n",
      "\n",
      "              Produto  Valor de Compra  Valor de Venda\n",
      "0              DIESEL              0.0            1.87\n",
      "1          DIESEL S10              0.0            1.94\n",
      "2              ETANOL              0.0            1.26\n",
      "3            GASOLINA              0.0            2.23\n",
      "4  GASOLINA ADITIVADA              0.0            3.46\n",
      "5                 GNV              0.0            1.34\n"
     ]
    }
   ],
   "source": [
    "print('O menor valor de compra e venda do periodo por produto:\\n\\n{}'.format(df.groupby(df['Produto'])[['Valor de Compra', 'Valor de Venda']].min().reset_index()))"
   ]
  },
  {
   "cell_type": "markdown",
   "id": "6363e847",
   "metadata": {},
   "source": [
    "#### 2.2 - Por Estado"
   ]
  },
  {
   "cell_type": "code",
   "execution_count": 234,
   "id": "2dce6da8",
   "metadata": {},
   "outputs": [
    {
     "name": "stdout",
     "output_type": "stream",
     "text": [
      "O maior valor de compra e venda do periodo por produto e estado:\n",
      "\n",
      "    Estado             Produto  Valor de Compra  Valor de Venda\n",
      "0       AC              DIESEL             4.27            6.13\n",
      "1       AC          DIESEL S10             4.40            6.13\n",
      "2       AC              ETANOL             4.05            6.18\n",
      "3       AC            GASOLINA             4.91            6.89\n",
      "4       AC  GASOLINA ADITIVADA             0.00            6.90\n",
      "..     ...                 ...              ...             ...\n",
      "155     TO          DIESEL S10             3.57            5.47\n",
      "156     TO              ETANOL             3.74            5.46\n",
      "157     TO            GASOLINA             4.56            6.29\n",
      "158     TO  GASOLINA ADITIVADA             0.00            6.35\n",
      "159     TO                 GNV             0.00            3.50\n",
      "\n",
      "[160 rows x 4 columns]\n"
     ]
    }
   ],
   "source": [
    "print('O maior valor de compra e venda do periodo por produto e estado:\\n\\n{}'.format(df.groupby(['Estado', 'Produto'])[['Valor de Compra', 'Valor de Venda']].max().reset_index()))"
   ]
  },
  {
   "cell_type": "code",
   "execution_count": 235,
   "id": "24e12269",
   "metadata": {},
   "outputs": [
    {
     "name": "stdout",
     "output_type": "stream",
     "text": [
      "A média do valor de compra e venda do periodo por produto e estado:\n",
      "\n",
      "    Estado             Produto  Valor de Compra  Valor de Venda\n",
      "0       AC              DIESEL             1.12            3.72\n",
      "1       AC          DIESEL S10             1.22            4.00\n",
      "2       AC              ETANOL             0.89            3.41\n",
      "3       AC            GASOLINA             1.38            4.27\n",
      "4       AC  GASOLINA ADITIVADA             0.00            5.80\n",
      "..     ...                 ...              ...             ...\n",
      "155     TO          DIESEL S10             0.68            3.23\n",
      "156     TO              ETANOL             0.52            3.02\n",
      "157     TO            GASOLINA             0.87            3.86\n",
      "158     TO  GASOLINA ADITIVADA             0.00            5.55\n",
      "159     TO                 GNV             0.00            3.26\n",
      "\n",
      "[160 rows x 4 columns]\n"
     ]
    }
   ],
   "source": [
    "print('A média do valor de compra e venda do periodo por produto e estado:\\n\\n{}'.format(df.groupby(['Estado', 'Produto'])[['Valor de Compra', 'Valor de Venda']].mean().round(2).reset_index()))"
   ]
  },
  {
   "cell_type": "code",
   "execution_count": 236,
   "id": "d3e927d1",
   "metadata": {},
   "outputs": [
    {
     "name": "stdout",
     "output_type": "stream",
     "text": [
      "O menor valor de compra e venda do periodo por produto e estado:\n",
      "\n",
      "    Estado             Produto  Valor de Compra  Valor de Venda\n",
      "0       AC              DIESEL              0.0            2.37\n",
      "1       AC          DIESEL S10              0.0            2.59\n",
      "2       AC              ETANOL              0.0            2.32\n",
      "3       AC            GASOLINA              0.0            3.02\n",
      "4       AC  GASOLINA ADITIVADA              0.0            4.92\n",
      "..     ...                 ...              ...             ...\n",
      "155     TO          DIESEL S10              0.0            2.12\n",
      "156     TO              ETANOL              0.0            1.99\n",
      "157     TO            GASOLINA              0.0            2.66\n",
      "158     TO  GASOLINA ADITIVADA              0.0            4.69\n",
      "159     TO                 GNV              0.0            3.00\n",
      "\n",
      "[160 rows x 4 columns]\n"
     ]
    }
   ],
   "source": [
    "print('O menor valor de compra e venda do periodo por produto e estado:\\n\\n{}'.format(df.groupby(['Estado', 'Produto'])[['Valor de Compra', 'Valor de Venda']].min().reset_index()))"
   ]
  },
  {
   "cell_type": "markdown",
   "id": "55e7c79c",
   "metadata": {},
   "source": [
    "#### 2.3 - Por Município"
   ]
  },
  {
   "cell_type": "code",
   "execution_count": 238,
   "id": "33dd1db1",
   "metadata": {},
   "outputs": [
    {
     "name": "stdout",
     "output_type": "stream",
     "text": [
      "O maior valor de compra e venda do periodo por produto e município:\n",
      "\n",
      "         Municipio     Produto  Valor de Compra  Valor de Venda\n",
      "0       ABAETETUBA      DIESEL             3.60            4.70\n",
      "1       ABAETETUBA  DIESEL S10             3.68            4.47\n",
      "2       ABAETETUBA      ETANOL             4.21            5.47\n",
      "3       ABAETETUBA    GASOLINA             4.50            5.55\n",
      "4     ABREU E LIMA  DIESEL S10             2.80            3.17\n",
      "...            ...         ...              ...             ...\n",
      "3051        XAPURI    GASOLINA             3.28            3.95\n",
      "3052      XINGUARA      DIESEL             3.62            4.14\n",
      "3053      XINGUARA  DIESEL S10             3.80            4.24\n",
      "3054      XINGUARA      ETANOL             3.18            4.10\n",
      "3055      XINGUARA    GASOLINA             4.52            5.28\n",
      "\n",
      "[3056 rows x 4 columns]\n"
     ]
    }
   ],
   "source": [
    "print('O maior valor de compra e venda do periodo por produto e município:\\n\\n{}'.format(df.groupby(['Municipio', 'Produto'])[['Valor de Compra', 'Valor de Venda']].max().reset_index()))"
   ]
  },
  {
   "cell_type": "code",
   "execution_count": 239,
   "id": "63d47469",
   "metadata": {},
   "outputs": [
    {
     "name": "stdout",
     "output_type": "stream",
     "text": [
      "A média do valor de compra e venda do periodo por produto e município:\n",
      "\n",
      "         Municipio     Produto  Valor de Compra  Valor de Venda\n",
      "0       ABAETETUBA      DIESEL             0.80            3.18\n",
      "1       ABAETETUBA  DIESEL S10             0.69            3.52\n",
      "2       ABAETETUBA      ETANOL             0.87            3.67\n",
      "3       ABAETETUBA    GASOLINA             1.00            3.92\n",
      "4     ABREU E LIMA  DIESEL S10             0.85            2.72\n",
      "...            ...         ...              ...             ...\n",
      "3051        XAPURI    GASOLINA             0.26            3.43\n",
      "3052      XINGUARA      DIESEL             0.34            3.07\n",
      "3053      XINGUARA  DIESEL S10             0.33            3.40\n",
      "3054      XINGUARA      ETANOL             0.09            3.34\n",
      "3055      XINGUARA    GASOLINA             0.67            4.03\n",
      "\n",
      "[3056 rows x 4 columns]\n"
     ]
    }
   ],
   "source": [
    "print('A média do valor de compra e venda do periodo por produto e município:\\n\\n{}'.format(df.groupby(['Municipio', 'Produto'])[['Valor de Compra', 'Valor de Venda']].mean().round(2).reset_index()))"
   ]
  },
  {
   "cell_type": "code",
   "execution_count": 240,
   "id": "aa1a1a40",
   "metadata": {},
   "outputs": [
    {
     "name": "stdout",
     "output_type": "stream",
     "text": [
      "O menor valor de compra e venda do periodo por produto e município:\n",
      "\n",
      "         Municipio     Produto  Valor de Compra  Valor de Venda\n",
      "0       ABAETETUBA      DIESEL              0.0            2.15\n",
      "1       ABAETETUBA  DIESEL S10              0.0            2.42\n",
      "2       ABAETETUBA      ETANOL              0.0            2.36\n",
      "3       ABAETETUBA    GASOLINA              0.0            2.87\n",
      "4     ABREU E LIMA  DIESEL S10              0.0            2.14\n",
      "...            ...         ...              ...             ...\n",
      "3051        XAPURI    GASOLINA              0.0            3.15\n",
      "3052      XINGUARA      DIESEL              0.0            2.13\n",
      "3053      XINGUARA  DIESEL S10              0.0            2.51\n",
      "3054      XINGUARA      ETANOL              0.0            2.35\n",
      "3055      XINGUARA    GASOLINA              0.0            2.96\n",
      "\n",
      "[3056 rows x 4 columns]\n"
     ]
    }
   ],
   "source": [
    "print('O menor valor de compra e venda do periodo por produto e município:\\n\\n{}'.format(df.groupby(['Municipio', 'Produto'])[['Valor de Compra', 'Valor de Venda']].min().reset_index()))"
   ]
  },
  {
   "cell_type": "markdown",
   "id": "d2b921c5",
   "metadata": {},
   "source": [
    "#### 2.4 - Por CNPJ"
   ]
  },
  {
   "cell_type": "code",
   "execution_count": 241,
   "id": "5abf6b1b",
   "metadata": {},
   "outputs": [
    {
     "name": "stdout",
     "output_type": "stream",
     "text": [
      "O maior valor de compra e venda do periodo por produto e empresa:\n",
      "\n",
      "            CNPJ da Revenda     Produto  Valor de Compra  Valor de Venda\n",
      "0        00.000.042/0001-22      DIESEL             2.24            2.52\n",
      "1        00.000.042/0001-22      ETANOL             2.07            2.37\n",
      "2        00.000.042/0001-22    GASOLINA             2.65            3.07\n",
      "3        00.000.042/0002-03      DIESEL             2.51            2.89\n",
      "4        00.000.042/0002-03      ETANOL             0.00            2.72\n",
      "...                     ...         ...              ...             ...\n",
      "103637   98.512.460/0005-27    GASOLINA             2.98            3.48\n",
      "103638   98.749.864/0001-05      DIESEL             3.09            3.70\n",
      "103639   98.749.864/0001-05  DIESEL S10             3.03            3.80\n",
      "103640   98.749.864/0001-05      ETANOL             0.00            4.05\n",
      "103641   98.749.864/0001-05    GASOLINA             4.06            4.80\n",
      "\n",
      "[103642 rows x 4 columns]\n"
     ]
    }
   ],
   "source": [
    "print('O maior valor de compra e venda do periodo por produto e empresa:\\n\\n{}'.format(df.groupby(['CNPJ da Revenda', 'Produto'])[['Valor de Compra', 'Valor de Venda']].max().reset_index()))"
   ]
  },
  {
   "cell_type": "code",
   "execution_count": 242,
   "id": "8f09c5a2",
   "metadata": {},
   "outputs": [
    {
     "name": "stdout",
     "output_type": "stream",
     "text": [
      "A média do valor de compra e venda do periodo por produto e empresa:\n",
      "\n",
      "            CNPJ da Revenda     Produto  Valor de Compra  Valor de Venda\n",
      "0        00.000.042/0001-22      DIESEL             1.92            2.41\n",
      "1        00.000.042/0001-22      ETANOL             0.56            2.29\n",
      "2        00.000.042/0001-22    GASOLINA             2.25            3.00\n",
      "3        00.000.042/0002-03      DIESEL             1.68            2.52\n",
      "4        00.000.042/0002-03      ETANOL             0.00            2.40\n",
      "...                     ...         ...              ...             ...\n",
      "103637   98.512.460/0005-27    GASOLINA             0.40            3.05\n",
      "103638   98.749.864/0001-05      DIESEL             0.47            2.78\n",
      "103639   98.749.864/0001-05  DIESEL S10             0.56            3.21\n",
      "103640   98.749.864/0001-05      ETANOL             0.00            2.79\n",
      "103641   98.749.864/0001-05    GASOLINA             1.08            3.45\n",
      "\n",
      "[103642 rows x 4 columns]\n"
     ]
    }
   ],
   "source": [
    "print('A média do valor de compra e venda do periodo por produto e empresa:\\n\\n{}'.format(df.groupby(['CNPJ da Revenda', 'Produto'])[['Valor de Compra', 'Valor de Venda']].mean().round(2).reset_index()))"
   ]
  },
  {
   "cell_type": "code",
   "execution_count": 243,
   "id": "eb872a29",
   "metadata": {},
   "outputs": [
    {
     "name": "stdout",
     "output_type": "stream",
     "text": [
      "O menor valor de compra e venda do periodo por produto e empresa:\n",
      "\n",
      "            CNPJ da Revenda     Produto  Valor de Compra  Valor de Venda\n",
      "0        00.000.042/0001-22      DIESEL              0.0            2.13\n",
      "1        00.000.042/0001-22      ETANOL              0.0            2.19\n",
      "2        00.000.042/0001-22    GASOLINA              0.0            2.81\n",
      "3        00.000.042/0002-03      DIESEL              0.0            2.32\n",
      "4        00.000.042/0002-03      ETANOL              0.0            2.27\n",
      "...                     ...         ...              ...             ...\n",
      "103637   98.512.460/0005-27    GASOLINA              0.0            2.98\n",
      "103638   98.749.864/0001-05      DIESEL              0.0            2.26\n",
      "103639   98.749.864/0001-05  DIESEL S10              0.0            3.04\n",
      "103640   98.749.864/0001-05      ETANOL              0.0            2.44\n",
      "103641   98.749.864/0001-05    GASOLINA              0.0            2.80\n",
      "\n",
      "[103642 rows x 4 columns]\n"
     ]
    }
   ],
   "source": [
    "print('O menor valor de compra e venda do periodo por produto e empresa:\\n\\n{}'.format(df.groupby(['CNPJ da Revenda', 'Produto'])[['Valor de Compra', 'Valor de Venda']].min().reset_index()))"
   ]
  },
  {
   "cell_type": "markdown",
   "id": "bb16792e",
   "metadata": {},
   "source": [
    "#### 2.5 - Por Bandeira"
   ]
  },
  {
   "cell_type": "code",
   "execution_count": 244,
   "id": "118b5548",
   "metadata": {},
   "outputs": [
    {
     "name": "stdout",
     "output_type": "stream",
     "text": [
      "O maior valor de compra e venda do periodo por produto e bandeira:\n",
      "\n",
      "    Bandeira     Produto  Valor de Compra  Valor de Venda\n",
      "0     76 OIL      DIESEL             2.94            3.60\n",
      "1     76 OIL      ETANOL             3.10            3.60\n",
      "2     76 OIL    GASOLINA             4.12            4.70\n",
      "3       ACOL      DIESEL             3.38            4.00\n",
      "4       ACOL  DIESEL S10             3.44            4.10\n",
      "..       ...         ...              ...             ...\n",
      "532     WATT         GNV             2.15            2.70\n",
      "533     ZEMA      DIESEL             3.67            4.00\n",
      "534     ZEMA  DIESEL S10             3.69            4.10\n",
      "535     ZEMA      ETANOL             3.20            3.60\n",
      "536     ZEMA    GASOLINA             4.69            5.25\n",
      "\n",
      "[537 rows x 4 columns]\n"
     ]
    }
   ],
   "source": [
    "print('O maior valor de compra e venda do periodo por produto e bandeira:\\n\\n{}'.format(df.groupby(['Bandeira', 'Produto'])[['Valor de Compra', 'Valor de Venda']].max().reset_index()))"
   ]
  },
  {
   "cell_type": "code",
   "execution_count": 245,
   "id": "c2ddc7d5",
   "metadata": {},
   "outputs": [
    {
     "name": "stdout",
     "output_type": "stream",
     "text": [
      "A média do valor de compra e venda do periodo por produto e bandeira:\n",
      "\n",
      "    Bandeira     Produto  Valor de Compra  Valor de Venda\n",
      "0     76 OIL      DIESEL             2.94            3.60\n",
      "1     76 OIL      ETANOL             3.10            3.60\n",
      "2     76 OIL    GASOLINA             4.12            4.70\n",
      "3       ACOL      DIESEL             0.58            2.99\n",
      "4       ACOL  DIESEL S10             1.40            3.22\n",
      "..       ...         ...              ...             ...\n",
      "532     WATT         GNV             0.03            2.60\n",
      "533     ZEMA      DIESEL             0.91            2.89\n",
      "534     ZEMA  DIESEL S10             0.88            3.26\n",
      "535     ZEMA      ETANOL             0.74            2.55\n",
      "536     ZEMA    GASOLINA             1.26            3.67\n",
      "\n",
      "[537 rows x 4 columns]\n"
     ]
    }
   ],
   "source": [
    "print('A média do valor de compra e venda do periodo por produto e bandeira:\\n\\n{}'.format(df.groupby(['Bandeira', 'Produto'])[['Valor de Compra', 'Valor de Venda']].mean().round(2).reset_index()))"
   ]
  },
  {
   "cell_type": "code",
   "execution_count": 246,
   "id": "0c6bd6a7",
   "metadata": {},
   "outputs": [
    {
     "name": "stdout",
     "output_type": "stream",
     "text": [
      "O menor valor de compra e venda do periodo por produto e bandeira:\n",
      "\n",
      "    Bandeira     Produto  Valor de Compra  Valor de Venda\n",
      "0     76 OIL      DIESEL             2.94            3.60\n",
      "1     76 OIL      ETANOL             3.10            3.60\n",
      "2     76 OIL    GASOLINA             4.12            4.70\n",
      "3       ACOL      DIESEL             0.00            2.15\n",
      "4       ACOL  DIESEL S10             0.00            2.62\n",
      "..       ...         ...              ...             ...\n",
      "532     WATT         GNV             0.00            2.39\n",
      "533     ZEMA      DIESEL             0.00            2.04\n",
      "534     ZEMA  DIESEL S10             0.00            2.30\n",
      "535     ZEMA      ETANOL             0.00            1.76\n",
      "536     ZEMA    GASOLINA             0.00            2.50\n",
      "\n",
      "[537 rows x 4 columns]\n"
     ]
    }
   ],
   "source": [
    "print('O menor valor de compra e venda do periodo por produto e bandeira:\\n\\n{}'.format(df.groupby(['Bandeira', 'Produto'])[['Valor de Compra', 'Valor de Venda']].min().reset_index()))"
   ]
  },
  {
   "cell_type": "code",
   "execution_count": null,
   "id": "36c18b84",
   "metadata": {},
   "outputs": [],
   "source": [
    "            "
   ]
  }
 ],
 "metadata": {
  "kernelspec": {
   "display_name": "Python 3 (ipykernel)",
   "language": "python",
   "name": "python3"
  },
  "language_info": {
   "codemirror_mode": {
    "name": "ipython",
    "version": 3
   },
   "file_extension": ".py",
   "mimetype": "text/x-python",
   "name": "python",
   "nbconvert_exporter": "python",
   "pygments_lexer": "ipython3",
   "version": "3.10.9"
  }
 },
 "nbformat": 4,
 "nbformat_minor": 5
}
